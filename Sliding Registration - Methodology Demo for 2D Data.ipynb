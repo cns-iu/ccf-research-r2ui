{
 "cells": [
  {
   "cell_type": "code",
   "execution_count": 1,
   "metadata": {},
   "outputs": [],
   "source": [
    "import ants\n",
    "import numpy as np"
   ]
  },
  {
   "cell_type": "markdown",
   "metadata": {},
   "source": [
    "# Loading the sample data from ANTs"
   ]
  },
  {
   "cell_type": "code",
   "execution_count": 2,
   "metadata": {},
   "outputs": [
    {
     "data": {
      "image/png": "[encoded data removed]",
      "text/plain": [
       "<Figure size 432x288 with 1 Axes>"
      ]
     },
     "metadata": {
      "needs_background": "light"
     },
     "output_type": "display_data"
    }
   ],
   "source": [
    "reference_image = ants.image_read(ants.get_ants_data('r27'))\n",
    "ants.plot(reference_image)"
   ]
  },
  {
   "cell_type": "markdown",
   "metadata": {},
   "source": [
    "# Showing the ANTsImage object.\n",
    "The sample image is a 256x256 image. It is a grayscale image and hence has 1 component."
   ]
  },
  {
   "cell_type": "code",
   "execution_count": 3,
   "metadata": {},
   "outputs": [
    {
     "data": {
      "text/plain": [
       "ANTsImage\n",
       "\t Pixel Type : float (float32)\n",
       "\t Components : 1\n",
       "\t Dimensions : (256, 256)\n",
       "\t Spacing    : (1.0, 1.0)\n",
       "\t Origin     : (0.0, 0.0)\n",
       "\t Direction  : [1. 0. 0. 1.]"
      ]
     },
     "execution_count": 3,
     "metadata": {},
     "output_type": "execute_result"
    }
   ],
   "source": [
    "reference_image\n"
   ]
  },
  {
   "cell_type": "markdown",
   "metadata": {},
   "source": [
    "# Getting a cropped image from the original image\n",
    "The size of the cropped image is defined by patch_size. If patch_size is P, then the cropped image is of size PxP."
   ]
  },
  {
   "cell_type": "code",
   "execution_count": 4,
   "metadata": {},
   "outputs": [],
   "source": [
    "def get_patch(reference_image, x1, y1, patch_size):\n",
    "    #x = reference_image.shape[0]//2\n",
    "    #y = reference_image.shape[1]//2\n",
    "    #k = patch_size\n",
    "    patch = ants.crop_indices(reference_image,(x1,y1), (x1+patch_size,y1+patch_size))\n",
    "    return patch"
   ]
  },
  {
   "cell_type": "markdown",
   "metadata": {},
   "source": [
    "# ANTs Registration"
   ]
  },
  {
   "cell_type": "code",
   "execution_count": 5,
   "metadata": {},
   "outputs": [],
   "source": [
    "def register_image(fixed, moving):\n",
    "    reg = ants.registration(fixed, moving, type_of_transform=\"SyNRA\", verbose=True) # SyNRA\n",
    "    return reg"
   ]
  },
  {
   "cell_type": "markdown",
   "metadata": {},
   "source": [
    "# Measuring the global warping\n",
    "Calculating the sum of absolute value of each pixel in the log jacobian determinant image of the moving image after registration."
   ]
  },
  {
   "cell_type": "code",
   "execution_count": 6,
   "metadata": {},
   "outputs": [],
   "source": [
    "def calculate_global_warping(fixed, transform_file):\n",
    "    jac = ants.create_jacobian_determinant_image(fixed,transform_file,1,0)\n",
    "    return np.sum(np.abs(jac.numpy()))"
   ]
  },
  {
   "cell_type": "markdown",
   "metadata": {},
   "source": [
    "# Sliding Registration\n",
    "Sliding the cropped image through a smaller region in the original image and registering at every position of (x,y).\n",
    "\n",
    "In this case, our cropped image(tissue block) is taken from the position (103, 103) in the image. We slide this cropped image from (95,95) to (105,105) and register at every position of (x,y). We calculate the global warping for each registration. Theoretically,after the sliding registration is complete, our best match should be at position (103,103)"
   ]
  },
  {
   "cell_type": "code",
   "execution_count": 7,
   "metadata": {},
   "outputs": [],
   "source": [
    "def sliding_registration(reference_image, moving_image, patch_size):\n",
    "    image_dims = [reference_image.shape[0], reference_image.shape[1]]\n",
    "    jac_all = []\n",
    "    reg_dict = {}\n",
    "    #patch_size = 8\n",
    "    num = 1\n",
    "    for i in range(95,105): # image_dims[0]-patch_size\n",
    "        for j in range(95,105): # image_dims[1]-patch_size\n",
    "            print(\"Registration Number:\" + str(num))\n",
    "            num += 1\n",
    "            fixed = get_patch(reference_image, i, j, patch_size)\n",
    "            #moving = get_patch(reference_image, i, j, patch_size)\n",
    "            reg = register_image(fixed, moving_image)\n",
    "            #print(reg)\n",
    "            if len(reg['fwdtransforms']) != 0:\n",
    "                print(\"NON-ZERO TRANSFORM\")\n",
    "                jac = calculate_global_warping(fixed, reg['fwdtransforms'][0])\n",
    "                jac_all.append((jac, i, j))\n",
    "                reg_dict[(i,j)] = (reg,fixed)\n",
    "            else:\n",
    "                print(\"ZERO TRANSFORM\")\n",
    "    return jac_all, reg_dict"
   ]
  },
  {
   "cell_type": "markdown",
   "metadata": {},
   "source": [
    "# Taking a central cropped image and running the sliding registration\n",
    "We take a cropped image of size 50x50 from the center of the original image. The (x,y) coordinate of the origin of cropped image is (103,103). "
   ]
  },
  {
   "cell_type": "code",
   "execution_count": 8,
   "metadata": {},
   "outputs": [
    {
     "name": "stdout",
     "output_type": "stream",
     "text": [
      "Position of cropped image(tissue block): (103, 103)\n"
     ]
    }
   ],
   "source": [
    "# Get central patch (tissue block)\n",
    "patch_size = 50\n",
    "x1_ref = (reference_image.shape[0]//2) - (patch_size//2)\n",
    "y1_ref = (reference_image.shape[1]//2) - (patch_size//2)\n",
    "moving_image = get_patch(reference_image, x1_ref, y1_ref, patch_size)\n",
    "#ants.plot(moving_image)\n",
    "print(f\"Position of cropped image(tissue block): ({x1_ref}, {y1_ref})\")\n"
   ]
  },
  {
   "cell_type": "code",
   "execution_count": 9,
   "metadata": {},
   "outputs": [
    {
     "name": "stdout",
     "output_type": "stream",
     "text": [
      "Registration Number:1\n",
      "NON-ZERO TRANSFORM\n",
      "Registration Number:2\n",
      "NON-ZERO TRANSFORM\n",
      "Registration Number:3\n",
      "NON-ZERO TRANSFORM\n",
      "Registration Number:4\n",
      "NON-ZERO TRANSFORM\n",
      "Registration Number:5\n",
      "NON-ZERO TRANSFORM\n",
      "Registration Number:6\n",
      "NON-ZERO TRANSFORM\n",
      "Registration Number:7\n",
      "NON-ZERO TRANSFORM\n",
      "Registration Number:8\n",
      "NON-ZERO TRANSFORM\n",
      "Registration Number:9\n",
      "NON-ZERO TRANSFORM\n",
      "Registration Number:10\n",
      "NON-ZERO TRANSFORM\n",
      "Registration Number:11\n",
      "NON-ZERO TRANSFORM\n",
      "Registration Number:12\n",
      "NON-ZERO TRANSFORM\n",
      "Registration Number:13\n",
      "NON-ZERO TRANSFORM\n",
      "Registration Number:14\n",
      "NON-ZERO TRANSFORM\n",
      "Registration Number:15\n",
      "NON-ZERO TRANSFORM\n",
      "Registration Number:16\n",
      "NON-ZERO TRANSFORM\n",
      "Registration Number:17\n",
      "NON-ZERO TRANSFORM\n",
      "Registration Number:18\n",
      "NON-ZERO TRANSFORM\n",
      "Registration Number:19\n",
      "NON-ZERO TRANSFORM\n",
      "Registration Number:20\n",
      "NON-ZERO TRANSFORM\n",
      "Registration Number:21\n",
      "NON-ZERO TRANSFORM\n",
      "Registration Number:22\n",
      "NON-ZERO TRANSFORM\n",
      "Registration Number:23\n",
      "NON-ZERO TRANSFORM\n",
      "Registration Number:24\n",
      "NON-ZERO TRANSFORM\n",
      "Registration Number:25\n",
      "NON-ZERO TRANSFORM\n",
      "Registration Number:26\n",
      "NON-ZERO TRANSFORM\n",
      "Registration Number:27\n",
      "NON-ZERO TRANSFORM\n",
      "Registration Number:28\n",
      "NON-ZERO TRANSFORM\n",
      "Registration Number:29\n",
      "NON-ZERO TRANSFORM\n",
      "Registration Number:30\n",
      "NON-ZERO TRANSFORM\n",
      "Registration Number:31\n",
      "NON-ZERO TRANSFORM\n",
      "Registration Number:32\n",
      "NON-ZERO TRANSFORM\n",
      "Registration Number:33\n",
      "NON-ZERO TRANSFORM\n",
      "Registration Number:34\n",
      "NON-ZERO TRANSFORM\n",
      "Registration Number:35\n",
      "NON-ZERO TRANSFORM\n",
      "Registration Number:36\n",
      "NON-ZERO TRANSFORM\n",
      "Registration Number:37\n",
      "NON-ZERO TRANSFORM\n",
      "Registration Number:38\n",
      "NON-ZERO TRANSFORM\n",
      "Registration Number:39\n",
      "NON-ZERO TRANSFORM\n",
      "Registration Number:40\n",
      "NON-ZERO TRANSFORM\n",
      "Registration Number:41\n",
      "NON-ZERO TRANSFORM\n",
      "Registration Number:42\n",
      "NON-ZERO TRANSFORM\n",
      "Registration Number:43\n",
      "NON-ZERO TRANSFORM\n",
      "Registration Number:44\n",
      "NON-ZERO TRANSFORM\n",
      "Registration Number:45\n",
      "NON-ZERO TRANSFORM\n",
      "Registration Number:46\n",
      "NON-ZERO TRANSFORM\n",
      "Registration Number:47\n",
      "NON-ZERO TRANSFORM\n",
      "Registration Number:48\n",
      "NON-ZERO TRANSFORM\n",
      "Registration Number:49\n",
      "NON-ZERO TRANSFORM\n",
      "Registration Number:50\n",
      "NON-ZERO TRANSFORM\n",
      "Registration Number:51\n",
      "NON-ZERO TRANSFORM\n",
      "Registration Number:52\n",
      "NON-ZERO TRANSFORM\n",
      "Registration Number:53\n",
      "NON-ZERO TRANSFORM\n",
      "Registration Number:54\n",
      "NON-ZERO TRANSFORM\n",
      "Registration Number:55\n",
      "NON-ZERO TRANSFORM\n",
      "Registration Number:56\n",
      "NON-ZERO TRANSFORM\n",
      "Registration Number:57\n",
      "NON-ZERO TRANSFORM\n",
      "Registration Number:58\n",
      "NON-ZERO TRANSFORM\n",
      "Registration Number:59\n",
      "NON-ZERO TRANSFORM\n",
      "Registration Number:60\n",
      "NON-ZERO TRANSFORM\n",
      "Registration Number:61\n",
      "NON-ZERO TRANSFORM\n",
      "Registration Number:62\n",
      "NON-ZERO TRANSFORM\n",
      "Registration Number:63\n",
      "NON-ZERO TRANSFORM\n",
      "Registration Number:64\n",
      "NON-ZERO TRANSFORM\n",
      "Registration Number:65\n",
      "NON-ZERO TRANSFORM\n",
      "Registration Number:66\n",
      "NON-ZERO TRANSFORM\n",
      "Registration Number:67\n",
      "NON-ZERO TRANSFORM\n",
      "Registration Number:68\n",
      "NON-ZERO TRANSFORM\n",
      "Registration Number:69\n",
      "NON-ZERO TRANSFORM\n",
      "Registration Number:70\n",
      "NON-ZERO TRANSFORM\n",
      "Registration Number:71\n",
      "NON-ZERO TRANSFORM\n",
      "Registration Number:72\n",
      "NON-ZERO TRANSFORM\n",
      "Registration Number:73\n",
      "NON-ZERO TRANSFORM\n",
      "Registration Number:74\n",
      "NON-ZERO TRANSFORM\n",
      "Registration Number:75\n",
      "NON-ZERO TRANSFORM\n",
      "Registration Number:76\n",
      "NON-ZERO TRANSFORM\n",
      "Registration Number:77\n",
      "NON-ZERO TRANSFORM\n",
      "Registration Number:78\n",
      "NON-ZERO TRANSFORM\n",
      "Registration Number:79\n",
      "NON-ZERO TRANSFORM\n",
      "Registration Number:80\n",
      "NON-ZERO TRANSFORM\n",
      "Registration Number:81\n",
      "NON-ZERO TRANSFORM\n",
      "Registration Number:82\n",
      "NON-ZERO TRANSFORM\n",
      "Registration Number:83\n",
      "NON-ZERO TRANSFORM\n",
      "Registration Number:84\n",
      "NON-ZERO TRANSFORM\n",
      "Registration Number:85\n",
      "NON-ZERO TRANSFORM\n",
      "Registration Number:86\n",
      "NON-ZERO TRANSFORM\n",
      "Registration Number:87\n",
      "NON-ZERO TRANSFORM\n",
      "Registration Number:88\n",
      "NON-ZERO TRANSFORM\n",
      "Registration Number:89\n",
      "NON-ZERO TRANSFORM\n",
      "Registration Number:90\n",
      "NON-ZERO TRANSFORM\n",
      "Registration Number:91\n",
      "NON-ZERO TRANSFORM\n",
      "Registration Number:92\n",
      "NON-ZERO TRANSFORM\n",
      "Registration Number:93\n",
      "NON-ZERO TRANSFORM\n",
      "Registration Number:94\n",
      "NON-ZERO TRANSFORM\n",
      "Registration Number:95\n",
      "NON-ZERO TRANSFORM\n",
      "Registration Number:96\n",
      "NON-ZERO TRANSFORM\n",
      "Registration Number:97\n",
      "NON-ZERO TRANSFORM\n",
      "Registration Number:98\n",
      "NON-ZERO TRANSFORM\n",
      "Registration Number:99\n",
      "NON-ZERO TRANSFORM\n",
      "Registration Number:100\n",
      "NON-ZERO TRANSFORM\n"
     ]
    }
   ],
   "source": [
    "jac_all, reg_dict = sliding_registration(reference_image,moving_image, patch_size)"
   ]
  },
  {
   "cell_type": "markdown",
   "metadata": {},
   "source": [
    "# Total number of registrations done during sliding registration\n",
    "We do a total of 100 registrations"
   ]
  },
  {
   "cell_type": "code",
   "execution_count": 10,
   "metadata": {},
   "outputs": [
    {
     "name": "stdout",
     "output_type": "stream",
     "text": [
      "100\n"
     ]
    }
   ],
   "source": [
    "print(len(jac_all))"
   ]
  },
  {
   "cell_type": "markdown",
   "metadata": {},
   "source": [
    "# Get the best Match position\n",
    "We get the best match's position. The best match should have the lowest value of the global warping. In our case, it should be at position (103,103) since that is the position from where the original cropped image was taken.\n",
    "\n",
    "The first value in the given output list of all glaobal warping values will the best match. It is defined as (global warping value, x-coordinate of origin, y-coordinate of origin)"
   ]
  },
  {
   "cell_type": "code",
   "execution_count": 11,
   "metadata": {},
   "outputs": [
    {
     "data": {
      "text/plain": [
       "[(28.168856, 103, 103),\n",
       " (44.301476, 104, 103),\n",
       " (50.208046, 103, 104),\n",
       " (66.92537, 104, 104),\n",
       " (67.4047, 102, 101),\n",
       " (68.33233, 102, 103),\n",
       " (68.71726, 102, 102),\n",
       " (69.25183, 103, 101),\n",
       " (69.48705, 103, 102),\n",
       " (75.026695, 101, 104),\n",
       " (75.44815, 100, 103),\n",
       " (75.57997, 104, 102),\n",
       " (78.055786, 101, 103),\n",
       " (81.03711, 102, 104),\n",
       " (81.63417, 101, 101),\n",
       " (81.94673, 101, 102),\n",
       " (87.220024, 103, 99),\n",
       " (87.23265, 97, 103),\n",
       " (89.211006, 103, 100),\n",
       " (91.8427, 96, 102),\n",
       " (92.72555, 104, 100),\n",
       " (93.570015, 102, 100),\n",
       " (93.80945, 95, 104),\n",
       " (94.0663, 104, 101),\n",
       " (96.08305, 99, 104),\n",
       " (96.29966, 98, 104),\n",
       " (98.15425, 102, 99),\n",
       " (98.263725, 100, 100),\n",
       " (101.23405, 99, 103),\n",
       " (101.24501, 98, 102),\n",
       " (101.77869, 102, 98),\n",
       " (105.09601, 100, 102),\n",
       " (106.05658, 97, 102),\n",
       " (107.18926, 98, 101),\n",
       " (107.68577, 98, 95),\n",
       " (109.32328, 103, 95),\n",
       " (109.40626, 99, 96),\n",
       " (111.450455, 104, 98),\n",
       " (113.19165, 101, 99),\n",
       " (113.48018, 101, 100),\n",
       " (113.7146, 103, 96),\n",
       " (114.84441, 102, 97),\n",
       " (115.28912, 101, 98),\n",
       " (116.41748, 99, 100),\n",
       " (116.50157, 97, 101),\n",
       " (117.42882, 96, 103),\n",
       " (118.27277, 100, 104),\n",
       " (118.86548, 96, 100),\n",
       " (118.941826, 104, 97),\n",
       " (119.35481, 100, 101),\n",
       " (120.09196, 97, 100),\n",
       " (120.13966, 95, 96),\n",
       " (120.22565, 95, 101),\n",
       " (120.26178, 104, 99),\n",
       " (122.53083, 103, 98),\n",
       " (123.48204, 98, 99),\n",
       " (123.86993, 104, 95),\n",
       " (124.52995, 100, 99),\n",
       " (125.72487, 97, 97),\n",
       " (126.23808, 99, 101),\n",
       " (128.14034, 98, 100),\n",
       " (128.6036, 103, 97),\n",
       " (133.3717, 96, 99),\n",
       " (133.76929, 98, 98),\n",
       " (135.21921, 101, 96),\n",
       " (135.51913, 100, 97),\n",
       " (146.14078, 98, 96),\n",
       " (146.35081, 96, 98),\n",
       " (146.45407, 97, 96),\n",
       " (146.87955, 102, 96),\n",
       " (148.99356, 99, 99),\n",
       " (150.56775, 96, 104),\n",
       " (153.80469, 97, 98),\n",
       " (154.01149, 102, 95),\n",
       " (156.9054, 101, 97),\n",
       " (158.15543, 99, 97),\n",
       " (166.12898, 104, 96),\n",
       " (172.00198, 100, 95),\n",
       " (222.97717, 101, 95),\n",
       " (248.56985, 98, 97),\n",
       " (263.8496, 100, 96),\n",
       " (285.33557, 99, 102),\n",
       " (320.6181, 95, 95),\n",
       " (348.82175, 95, 100),\n",
       " (364.7692, 99, 98),\n",
       " (381.10706, 97, 99),\n",
       " (397.73853, 100, 98),\n",
       " (476.00766, 95, 97),\n",
       " (483.98853, 95, 99),\n",
       " (511.17584, 98, 103),\n",
       " (511.47177, 99, 95),\n",
       " (511.57162, 95, 98),\n",
       " (515.786, 96, 101),\n",
       " (525.3268, 95, 103),\n",
       " (538.659, 97, 95),\n",
       " (559.3046, 96, 96),\n",
       " (628.47864, 96, 95),\n",
       " (638.47595, 96, 97),\n",
       " (650.04553, 95, 102),\n",
       " (672.1177, 97, 104)]"
      ]
     },
     "execution_count": 11,
     "metadata": {},
     "output_type": "execute_result"
    }
   ],
   "source": [
    "jac_all.sort(key=lambda x:x[0])\n",
    "jac_all"
   ]
  },
  {
   "cell_type": "code",
   "execution_count": 12,
   "metadata": {},
   "outputs": [],
   "source": [
    "# USE ONLY IF USING NON-LOG JACOBIAN DETERMINANT IMAGE FOR MEASURING GLOBAL WARPING.\n",
    "\n",
    "#jac_all_c = []\n",
    "#for i,j,k in jac_all:\n",
    "#    val = (abs(i-(i - patch_size**2)), j, k) \n",
    "#    jac_all_c.append(val)"
   ]
  },
  {
   "cell_type": "code",
   "execution_count": 13,
   "metadata": {},
   "outputs": [],
   "source": [
    "#jac_all_c.sort(key=lambda x:x[0])\n",
    "#jac_all_c"
   ]
  },
  {
   "cell_type": "code",
   "execution_count": 14,
   "metadata": {},
   "outputs": [
    {
     "data": {
      "text/plain": [
       "100"
      ]
     },
     "execution_count": 14,
     "metadata": {},
     "output_type": "execute_result"
    }
   ],
   "source": [
    "len(reg_dict)"
   ]
  },
  {
   "cell_type": "markdown",
   "metadata": {},
   "source": [
    "# Details of registered image and corresponding fixed image\n",
    "Change the value of (x1_ref, y1_ref) to get details of registered image and fixed image at that index/position."
   ]
  },
  {
   "cell_type": "code",
   "execution_count": 15,
   "metadata": {},
   "outputs": [
    {
     "data": {
      "text/plain": [
       "({'warpedmovout': ANTsImage\n",
       "  \t Pixel Type : float (float32)\n",
       "  \t Components : 1\n",
       "  \t Dimensions : (50, 50)\n",
       "  \t Spacing    : (1.0, 1.0)\n",
       "  \t Origin     : (103.0, 103.0)\n",
       "  \t Direction  : [1. 0. 0. 1.],\n",
       "  'warpedfixout': ANTsImage\n",
       "  \t Pixel Type : float (float32)\n",
       "  \t Components : 1\n",
       "  \t Dimensions : (50, 50)\n",
       "  \t Spacing    : (1.0, 1.0)\n",
       "  \t Origin     : (103.0, 103.0)\n",
       "  \t Direction  : [1. 0. 0. 1.],\n",
       "  'fwdtransforms': ['/var/folders/1g/0yylg_z95lx5zcn3dpkgb9tr0000gn/T/tmptudfgi1u1Warp.nii.gz',\n",
       "   '/var/folders/1g/0yylg_z95lx5zcn3dpkgb9tr0000gn/T/tmptudfgi1u0GenericAffine.mat'],\n",
       "  'invtransforms': ['/var/folders/1g/0yylg_z95lx5zcn3dpkgb9tr0000gn/T/tmptudfgi1u0GenericAffine.mat',\n",
       "   '/var/folders/1g/0yylg_z95lx5zcn3dpkgb9tr0000gn/T/tmptudfgi1u1InverseWarp.nii.gz']},\n",
       " ANTsImage\n",
       " \t Pixel Type : float (float32)\n",
       " \t Components : 1\n",
       " \t Dimensions : (50, 50)\n",
       " \t Spacing    : (1.0, 1.0)\n",
       " \t Origin     : (103.0, 103.0)\n",
       " \t Direction  : [1. 0. 0. 1.])"
      ]
     },
     "execution_count": 15,
     "metadata": {},
     "output_type": "execute_result"
    }
   ],
   "source": [
    "ref_match = reg_dict[(x1_ref,y1_ref)]\n",
    "ref_match"
   ]
  },
  {
   "cell_type": "markdown",
   "metadata": {},
   "source": [
    "# Some Helpful visualizations\n",
    "1. Moving image after registration\n",
    "2. Moving image before registration\n",
    "3. Fixed image at that position\n",
    "\n",
    "In this case, all three look the same because we are visualizing the cropped image and the best match registration."
   ]
  },
  {
   "cell_type": "code",
   "execution_count": 16,
   "metadata": {},
   "outputs": [],
   "source": [
    "ref_fixed = ref_match[1]\n",
    "ref_reg = ref_match[0]"
   ]
  },
  {
   "cell_type": "code",
   "execution_count": 17,
   "metadata": {},
   "outputs": [
    {
     "data": {
      "image/png": "[encoded data removed]",
      "text/plain": [
       "<Figure size 432x288 with 1 Axes>"
      ]
     },
     "metadata": {
      "needs_background": "light"
     },
     "output_type": "display_data"
    },
    {
     "data": {
      "image/png": "[encoded data removed]",
      "text/plain": [
       "<Figure size 432x288 with 1 Axes>"
      ]
     },
     "metadata": {
      "needs_background": "light"
     },
     "output_type": "display_data"
    },
    {
     "data": {
      "image/png": "[encoded data removed]",
      "text/plain": [
       "<Figure size 432x288 with 1 Axes>"
      ]
     },
     "metadata": {
      "needs_background": "light"
     },
     "output_type": "display_data"
    }
   ],
   "source": [
    "ants.plot(ref_reg['warpedmovout'])\n",
    "ants.plot(moving_image)\n",
    "ants.plot(ref_fixed)"
   ]
  },
  {
   "cell_type": "markdown",
   "metadata": {},
   "source": [
    "Visualizing:\n",
    "1. Warped image overlayed on moving image\n",
    "2. Moving image overlayed on Fixed image\n",
    "3. Warped image overlayed on Fixed image"
   ]
  },
  {
   "cell_type": "code",
   "execution_count": 18,
   "metadata": {},
   "outputs": [
    {
     "data": {
      "image/png": "[encoded data removed]",
      "text/plain": [
       "<Figure size 432x288 with 1 Axes>"
      ]
     },
     "metadata": {
      "needs_background": "light"
     },
     "output_type": "display_data"
    },
    {
     "data": {
      "image/png": "[encoded data removed]",
      "text/plain": [
       "<Figure size 432x288 with 1 Axes>"
      ]
     },
     "metadata": {
      "needs_background": "light"
     },
     "output_type": "display_data"
    },
    {
     "data": {
      "image/png": "[encoded data removed]",
      "text/plain": [
       "<Figure size 432x288 with 1 Axes>"
      ]
     },
     "metadata": {
      "needs_background": "light"
     },
     "output_type": "display_data"
    }
   ],
   "source": [
    "ants.plot(moving_image, ref_reg['warpedmovout'])\n",
    "ants.plot(ref_fixed, moving_image)\n",
    "ants.plot(ref_fixed, ref_reg['warpedmovout'])"
   ]
  },
  {
   "cell_type": "markdown",
   "metadata": {},
   "source": [
    "Visualizing the grid deformation/warping of moving image after it is registered to the fixed image.\n",
    "\n",
    "In this case, there is no warping because we are visualizing the best match."
   ]
  },
  {
   "cell_type": "code",
   "execution_count": 19,
   "metadata": {},
   "outputs": [],
   "source": [
    "mywarpedgrid = ants.create_warped_grid( moving_image, grid_directions=(True,True),\n",
    "                        transform=ref_reg['fwdtransforms'], fixed_reference_image=ref_fixed )"
   ]
  },
  {
   "cell_type": "code",
   "execution_count": 20,
   "metadata": {},
   "outputs": [
    {
     "data": {
      "image/png": "[encoded data removed]",
      "text/plain": [
       "<Figure size 432x288 with 1 Axes>"
      ]
     },
     "metadata": {
      "needs_background": "light"
     },
     "output_type": "display_data"
    }
   ],
   "source": [
    "ants.plot(mywarpedgrid)"
   ]
  },
  {
   "cell_type": "markdown",
   "metadata": {},
   "source": [
    "Visualizing the Log Jacobian Determinant(LJD) Image and looking at the value of the Log Jacobian Determinant for each pixel.\n",
    "\n",
    "If LJD = 0 -> No change\n",
    "\n",
    "If LJD = -ve -> Contraction\n",
    "\n",
    "If LJD = +ve -> Expansion"
   ]
  },
  {
   "cell_type": "code",
   "execution_count": 21,
   "metadata": {},
   "outputs": [],
   "source": [
    "jac_viz = ants.create_jacobian_determinant_image(ref_fixed,ref_reg['fwdtransforms'][0],1,0)"
   ]
  },
  {
   "cell_type": "code",
   "execution_count": 22,
   "metadata": {},
   "outputs": [
    {
     "data": {
      "image/png": "[encoded data removed]",
      "text/plain": [
       "<Figure size 432x288 with 1 Axes>"
      ]
     },
     "metadata": {
      "needs_background": "light"
     },
     "output_type": "display_data"
    }
   ],
   "source": [
    "ants.plot(jac_viz)"
   ]
  },
  {
   "cell_type": "code",
   "execution_count": 23,
   "metadata": {},
   "outputs": [
    {
     "data": {
      "text/plain": [
       "array([[ 0.        ,  0.00212748,  0.00635621, ...,  0.0027056 ,\n",
       "         0.00097543,  0.        ],\n",
       "       [ 0.00088581,  0.01227358,  0.02847587, ...,  0.00640588,\n",
       "         0.00735908,  0.00129945],\n",
       "       [ 0.00265764,  0.01875415,  0.03284449, ...,  0.0113952 ,\n",
       "         0.01272814,  0.00386512],\n",
       "       ...,\n",
       "       [ 0.00251076,  0.00978112,  0.00861375, ...,  0.01026079,\n",
       "        -0.00749056, -0.0045008 ],\n",
       "       [ 0.00083811,  0.00270241,  0.00111949, ...,  0.02130096,\n",
       "         0.00353307, -0.00145177],\n",
       "       [ 0.        , -0.00016731, -0.0005297 , ...,  0.00722995,\n",
       "         0.00240108,  0.        ]], dtype=float32)"
      ]
     },
     "execution_count": 23,
     "metadata": {},
     "output_type": "execute_result"
    }
   ],
   "source": [
    "jac_viz[:][:]"
   ]
  },
  {
   "cell_type": "code",
   "execution_count": null,
   "metadata": {},
   "outputs": [],
   "source": []
  }
 ],
 "metadata": {
  "kernelspec": {
   "display_name": "Python 3",
   "language": "python",
   "name": "python3"
  },
  "language_info": {
   "codemirror_mode": {
    "name": "ipython",
    "version": 3
   },
   "file_extension": ".py",
   "mimetype": "text/x-python",
   "name": "python",
   "nbconvert_exporter": "python",
   "pygments_lexer": "ipython3",
   "version": "3.7.6"
  }
 },
 "nbformat": 4,
 "nbformat_minor": 4
}
