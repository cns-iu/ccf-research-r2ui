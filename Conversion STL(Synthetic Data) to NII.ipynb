{
 "cells": [
  {
   "cell_type": "markdown",
   "metadata": {},
   "source": [
    "# <center>Converting Synthetic Data (STL) to NIfTI images</center>"
   ]
  },
  {
   "cell_type": "markdown",
   "metadata": {},
   "source": [
    "##### Loading the required libraries"
   ]
  },
  {
   "cell_type": "code",
   "execution_count": 1,
   "metadata": {},
   "outputs": [],
   "source": [
    "import trimesh\n",
    "import numpy as np  \n",
    "import vtkplotter as vtk\n",
    "import ants"
   ]
  },
  {
   "cell_type": "markdown",
   "metadata": {},
   "source": [
    "# Converting STL file to NIfTI File"
   ]
  },
  {
   "cell_type": "code",
   "execution_count": 2,
   "metadata": {},
   "outputs": [
    {
     "name": "stderr",
     "output_type": "stream",
     "text": [
      "subdivide_to_size reached maximum iterations before exit criteria!\n"
     ]
    },
    {
     "name": "stdout",
     "output_type": "stream",
     "text": [
      "(601, 201, 201)\n"
     ]
    },
    {
     "data": {
      "image/png": "[encoded data removed]",
      "text/plain": [
       "<Figure size 432x540 with 12 Axes>"
      ]
     },
     "metadata": {
      "needs_background": "light"
     },
     "output_type": "display_data"
    }
   ],
   "source": [
    "mesh_stl = trimesh.load_mesh(\"./Synthetic_Data_November/Stl/Reference_Block_0.stl\", remove_empty_areas=False)\n",
    "\n",
    "#mesh_stl\n",
    "\n",
    "##### Displaying the image\n",
    "\n",
    "#mesh_stl.visual.face_colors = [100, 100, 100, 255]\n",
    "#mesh_stl.show(viewer='gl')\n",
    "\n",
    "#pc1 = vtk.Points(mesh_stl.vertices, r=10)\n",
    "#vtk.show([mesh_stl,pc1], N=1, bg=\"white\", axes=1)\n",
    "\n",
    "##### Generating the voxel grid\n",
    "\n",
    "volume=mesh_stl.voxelized(pitch=0.005)\n",
    "#volume\n",
    "\n",
    "voxel_grid=volume.matrix\n",
    "np_voxel_grid=np.asarray(voxel_grid*1.)\n",
    "\n",
    "print(np_voxel_grid.shape)\n",
    "\n",
    "#np_voxel_grid\n",
    "\n",
    "##### Converting the numpy voxel grid to ants image and storing it in nifti format\n",
    "\n",
    "img=ants.from_numpy(np_voxel_grid)\n",
    "ants.plot(img)\n",
    "\n",
    "##### Saving the nifti file\n",
    "\n",
    "ants.image_write(img,'./Synthetic_Data_November/Nifti/Reference_Block_0.nii')\n",
    "\n",
    "#img2=ants.core.ants_image_io.image_read('./Synthetic_Data_November/Stl/Reference_Block_0.nii')\n",
    "#ants.plot(img2)"
   ]
  },
  {
   "cell_type": "code",
   "execution_count": 3,
   "metadata": {},
   "outputs": [
    {
     "name": "stderr",
     "output_type": "stream",
     "text": [
      "subdivide_to_size reached maximum iterations before exit criteria!\n"
     ]
    },
    {
     "name": "stdout",
     "output_type": "stream",
     "text": [
      "(403, 64, 146)\n"
     ]
    },
    {
     "data": {
      "image/png": "[encoded data removed]",
      "text/plain": [
       "<Figure size 189.37x540 with 12 Axes>"
      ]
     },
     "metadata": {
      "needs_background": "light"
     },
     "output_type": "display_data"
    }
   ],
   "source": [
    "mesh_stl = trimesh.load_mesh(\"./Synthetic_Data_November/Stl/Tissue_Blocks_Cells_Noise_0.stl\", remove_empty_areas=False)\n",
    "\n",
    "#mesh_stl\n",
    "\n",
    "##### Displaying the image\n",
    "\n",
    "#mesh_stl.visual.face_colors = [100, 100, 100, 255]\n",
    "#mesh_stl.show(viewer='gl')\n",
    "\n",
    "#pc1 = vtk.Points(mesh_stl.vertices, r=10)\n",
    "#vtk.show([mesh_stl,pc1], N=1, bg=\"white\", axes=1)\n",
    "\n",
    "##### Generating the voxel grid\n",
    "\n",
    "volume=mesh_stl.voxelized(pitch=0.005)\n",
    "#volume\n",
    "\n",
    "voxel_grid=volume.matrix\n",
    "np_voxel_grid=np.asarray(voxel_grid*1.)\n",
    "\n",
    "print(np_voxel_grid.shape)\n",
    "\n",
    "#np_voxel_grid\n",
    "\n",
    "##### Converting the numpy voxel grid to ants image and storing it in nifti format\n",
    "\n",
    "img=ants.from_numpy(np_voxel_grid)\n",
    "ants.plot(img)\n",
    "\n",
    "##### Saving the nifti file\n",
    "\n",
    "ants.image_write(img,'./Synthetic_Data_November/Nifti/Tissue_Blocks_Cells_Noise_0.nii')\n",
    "\n",
    "#img2=ants.core.ants_image_io.image_read('./Synthetic_Data_November/Stl/Reference_Block_0.nii')\n",
    "#ants.plot(img2)"
   ]
  },
  {
   "cell_type": "code",
   "execution_count": 4,
   "metadata": {},
   "outputs": [
    {
     "name": "stderr",
     "output_type": "stream",
     "text": [
      "subdivide_to_size reached maximum iterations before exit criteria!\n"
     ]
    },
    {
     "name": "stdout",
     "output_type": "stream",
     "text": [
      "(401, 66, 148)\n"
     ]
    },
    {
     "data": {
      "image/png": "[encoded data removed]",
      "text/plain": [
       "<Figure size 192.649x540 with 12 Axes>"
      ]
     },
     "metadata": {
      "needs_background": "light"
     },
     "output_type": "display_data"
    }
   ],
   "source": [
    "mesh_stl = trimesh.load_mesh(\"./Synthetic_Data_November/Stl/Tissue_Blocks_Cells_Noise_1.stl\", remove_empty_areas=False)\n",
    "\n",
    "#mesh_stl\n",
    "\n",
    "##### Displaying the image\n",
    "\n",
    "#mesh_stl.visual.face_colors = [100, 100, 100, 255]\n",
    "#mesh_stl.show(viewer='gl')\n",
    "\n",
    "#pc1 = vtk.Points(mesh_stl.vertices, r=10)\n",
    "#vtk.show([mesh_stl,pc1], N=1, bg=\"white\", axes=1)\n",
    "\n",
    "##### Generating the voxel grid\n",
    "\n",
    "volume=mesh_stl.voxelized(pitch=0.005)\n",
    "#volume\n",
    "\n",
    "voxel_grid=volume.matrix\n",
    "np_voxel_grid=np.asarray(voxel_grid*1.)\n",
    "\n",
    "print(np_voxel_grid.shape)\n",
    "\n",
    "#np_voxel_grid\n",
    "\n",
    "##### Converting the numpy voxel grid to ants image and storing it in nifti format\n",
    "\n",
    "img=ants.from_numpy(np_voxel_grid)\n",
    "ants.plot(img)\n",
    "\n",
    "##### Saving the nifti file\n",
    "\n",
    "ants.image_write(img,'./Synthetic_Data_November/Nifti/Tissue_Blocks_Cells_Noise_1.nii')\n",
    "\n",
    "#img2=ants.core.ants_image_io.image_read('./Synthetic_Data_November/Stl/Reference_Block_0.nii')\n",
    "#ants.plot(img2)"
   ]
  },
  {
   "cell_type": "code",
   "execution_count": 5,
   "metadata": {},
   "outputs": [
    {
     "name": "stderr",
     "output_type": "stream",
     "text": [
      "subdivide_to_size reached maximum iterations before exit criteria!\n"
     ]
    },
    {
     "name": "stdout",
     "output_type": "stream",
     "text": [
      "(401, 67, 147)\n"
     ]
    },
    {
     "data": {
      "image/png": "[encoded data removed]",
      "text/plain": [
       "<Figure size 196.898x540 with 12 Axes>"
      ]
     },
     "metadata": {
      "needs_background": "light"
     },
     "output_type": "display_data"
    }
   ],
   "source": [
    "mesh_stl = trimesh.load_mesh(\"./Synthetic_Data_November/Stl/Tissue_Blocks_Cells_Noise_2.stl\", remove_empty_areas=False)\n",
    "\n",
    "#mesh_stl\n",
    "\n",
    "##### Displaying the image\n",
    "\n",
    "#mesh_stl.visual.face_colors = [100, 100, 100, 255]\n",
    "#mesh_stl.show(viewer='gl')\n",
    "\n",
    "#pc1 = vtk.Points(mesh_stl.vertices, r=10)\n",
    "#vtk.show([mesh_stl,pc1], N=1, bg=\"white\", axes=1)\n",
    "\n",
    "##### Generating the voxel grid\n",
    "\n",
    "volume=mesh_stl.voxelized(pitch=0.005)\n",
    "#volume\n",
    "\n",
    "voxel_grid=volume.matrix\n",
    "np_voxel_grid=np.asarray(voxel_grid*1.)\n",
    "\n",
    "print(np_voxel_grid.shape)\n",
    "\n",
    "#np_voxel_grid\n",
    "\n",
    "##### Converting the numpy voxel grid to ants image and storing it in nifti format\n",
    "\n",
    "img=ants.from_numpy(np_voxel_grid)\n",
    "ants.plot(img)\n",
    "\n",
    "##### Saving the nifti file\n",
    "\n",
    "ants.image_write(img,'./Synthetic_Data_November/Nifti/Tissue_Blocks_Cells_Noise_2.nii')\n",
    "\n",
    "#img2=ants.core.ants_image_io.image_read('./Synthetic_Data_November/Stl/Reference_Block_0.nii')\n",
    "#ants.plot(img2)"
   ]
  },
  {
   "cell_type": "code",
   "execution_count": 6,
   "metadata": {},
   "outputs": [
    {
     "name": "stderr",
     "output_type": "stream",
     "text": [
      "subdivide_to_size reached maximum iterations before exit criteria!\n"
     ]
    },
    {
     "name": "stdout",
     "output_type": "stream",
     "text": [
      "(414, 85, 153)\n"
     ]
    },
    {
     "data": {
      "image/png": "[encoded data removed]",
      "text/plain": [
       "<Figure size 240x540 with 12 Axes>"
      ]
     },
     "metadata": {
      "needs_background": "light"
     },
     "output_type": "display_data"
    }
   ],
   "source": [
    "mesh_stl = trimesh.load_mesh(\"./Synthetic_Data_November/Stl/Tissue_Blocks_Cells_Noise_10.stl\", remove_empty_areas=False)\n",
    "\n",
    "#mesh_stl\n",
    "\n",
    "##### Displaying the image\n",
    "\n",
    "#mesh_stl.visual.face_colors = [100, 100, 100, 255]\n",
    "#mesh_stl.show(viewer='gl')\n",
    "\n",
    "#pc1 = vtk.Points(mesh_stl.vertices, r=10)\n",
    "#vtk.show([mesh_stl,pc1], N=1, bg=\"white\", axes=1)\n",
    "\n",
    "##### Generating the voxel grid\n",
    "\n",
    "volume=mesh_stl.voxelized(pitch=0.005)\n",
    "#volume\n",
    "\n",
    "voxel_grid=volume.matrix\n",
    "np_voxel_grid=np.asarray(voxel_grid*1.)\n",
    "\n",
    "print(np_voxel_grid.shape)\n",
    "\n",
    "#np_voxel_grid\n",
    "\n",
    "##### Converting the numpy voxel grid to ants image and storing it in nifti format\n",
    "\n",
    "img=ants.from_numpy(np_voxel_grid)\n",
    "ants.plot(img)\n",
    "\n",
    "##### Saving the nifti file\n",
    "\n",
    "ants.image_write(img,'./Synthetic_Data_November/Nifti/Tissue_Blocks_Cells_Noise_10.nii')\n",
    "\n",
    "#img2=ants.core.ants_image_io.image_read('./Synthetic_Data_November/Stl/Reference_Block_0.nii')\n",
    "#ants.plot(img2)"
   ]
  },
  {
   "cell_type": "code",
   "execution_count": 7,
   "metadata": {},
   "outputs": [
    {
     "name": "stderr",
     "output_type": "stream",
     "text": [
      "subdivide_to_size reached maximum iterations before exit criteria!\n"
     ]
    },
    {
     "name": "stdout",
     "output_type": "stream",
     "text": [
      "(498, 180, 259)\n"
     ]
    },
    {
     "data": {
      "image/png": "[encoded data removed]",
      "text/plain": [
       "<Figure size 300.232x540 with 12 Axes>"
      ]
     },
     "metadata": {
      "needs_background": "light"
     },
     "output_type": "display_data"
    }
   ],
   "source": [
    "mesh_stl = trimesh.load_mesh(\"./Synthetic_Data_November/Stl/Tissue_Blocks_Cells_Noise_50.stl\", remove_empty_areas=False)\n",
    "\n",
    "#mesh_stl\n",
    "\n",
    "##### Displaying the image\n",
    "\n",
    "#mesh_stl.visual.face_colors = [100, 100, 100, 255]\n",
    "#mesh_stl.show(viewer='gl')\n",
    "\n",
    "#pc1 = vtk.Points(mesh_stl.vertices, r=10)\n",
    "#vtk.show([mesh_stl,pc1], N=1, bg=\"white\", axes=1)\n",
    "\n",
    "##### Generating the voxel grid\n",
    "\n",
    "volume=mesh_stl.voxelized(pitch=0.005)\n",
    "#volume\n",
    "\n",
    "voxel_grid=volume.matrix\n",
    "np_voxel_grid=np.asarray(voxel_grid*1.)\n",
    "\n",
    "print(np_voxel_grid.shape)\n",
    "\n",
    "#np_voxel_grid\n",
    "\n",
    "##### Converting the numpy voxel grid to ants image and storing it in nifti format\n",
    "\n",
    "img=ants.from_numpy(np_voxel_grid)\n",
    "ants.plot(img)\n",
    "\n",
    "##### Saving the nifti file\n",
    "\n",
    "ants.image_write(img,'./Synthetic_Data_November/Nifti/Tissue_Blocks_Cells_Noise_50.nii')\n",
    "\n",
    "#img2=ants.core.ants_image_io.image_read('./Synthetic_Data_November/Stl/Reference_Block_0.nii')\n",
    "#ants.plot(img2)"
   ]
  }
 ],
 "metadata": {
  "kernelspec": {
   "display_name": "Python 3",
   "language": "python",
   "name": "python3"
  },
  "language_info": {
   "codemirror_mode": {
    "name": "ipython",
    "version": 3
   },
   "file_extension": ".py",
   "mimetype": "text/x-python",
   "name": "python",
   "nbconvert_exporter": "python",
   "pygments_lexer": "ipython3",
   "version": "3.7.6"
  }
 },
 "nbformat": 4,
 "nbformat_minor": 4
}
