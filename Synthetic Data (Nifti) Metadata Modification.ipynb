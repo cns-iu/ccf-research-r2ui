{
 "cells": [
  {
   "cell_type": "markdown",
   "metadata": {},
   "source": [
    "# Fixing Metadata for ANTsImage of Synthetic Data\n",
    "\n",
    "Setting the proper origin and spacing for the synthetic data.\n",
    "Note: Spacing for tissue blocks is not changed yet since it is not required. Also, would require unity measurements of "
   ]
  },
  {
   "cell_type": "code",
   "execution_count": 1,
   "metadata": {},
   "outputs": [],
   "source": [
    "import ants\n",
    "import numpy as np"
   ]
  },
  {
   "cell_type": "code",
   "execution_count": 13,
   "metadata": {},
   "outputs": [
    {
     "name": "stdout",
     "output_type": "stream",
     "text": [
      "ANTsImage (RAI)\n",
      "\t Pixel Type : float (float32)\n",
      "\t Components : 1\n",
      "\t Dimensions : (601, 201, 201)\n",
      "\t Spacing    : (1.0, 1.0, 1.0)\n",
      "\t Origin     : (0.0, 0.0, 0.0)\n",
      "\t Direction  : [1. 0. 0. 0. 1. 0. 0. 0. 1.]\n",
      "\n",
      "ANTsImage (RAI)\n",
      "\t Pixel Type : float (float32)\n",
      "\t Components : 1\n",
      "\t Dimensions : (601, 201, 201)\n",
      "\t Spacing    : (0.201, 0.201, 0.201)\n",
      "\t Origin     : (300.5, 100.5, 100.5)\n",
      "\t Direction  : [1. 0. 0. 0. 1. 0. 0. 0. 1.]\n",
      "\n"
     ]
    }
   ],
   "source": [
    "ref = ants.image_read(\"./Synthetic_Data_November/Nifti/Reference_Block_0.nii\")\n",
    "#ants.plot(ref)\n",
    "print(ref)\n",
    "#ref\n",
    "\n",
    "ref.set_origin((300.5, 100.5, 100.5))\n",
    "\n",
    "ref.set_spacing([0.201, 0.201, 0.201])\n",
    "\n",
    "ants.image_write(ref,\"./Synthetic_Data_November/Nifti_mod/Reference_block_0.nii\")\n",
    "print(ref)"
   ]
  },
  {
   "cell_type": "code",
   "execution_count": 14,
   "metadata": {},
   "outputs": [
    {
     "name": "stdout",
     "output_type": "stream",
     "text": [
      "ANTsImage (RAI)\n",
      "\t Pixel Type : float (float32)\n",
      "\t Components : 1\n",
      "\t Dimensions : (403, 64, 146)\n",
      "\t Spacing    : (1.0, 1.0, 1.0)\n",
      "\t Origin     : (0.0, 0.0, 0.0)\n",
      "\t Direction  : [1. 0. 0. 0. 1. 0. 0. 0. 1.]\n",
      "\n",
      "ANTsImage (RAI)\n",
      "\t Pixel Type : float (float32)\n",
      "\t Components : 1\n",
      "\t Dimensions : (403, 64, 146)\n",
      "\t Spacing    : (1.0, 1.0, 1.0)\n",
      "\t Origin     : (282.812, 128.037, 98.892)\n",
      "\t Direction  : [1. 0. 0. 0. 1. 0. 0. 0. 1.]\n",
      "\n"
     ]
    }
   ],
   "source": [
    "tis = ants.image_read(\"./Synthetic_Data_November/Nifti/Tissue_Blocks_Cells_Noise_0.nii\")\n",
    "#ants.plot(tis)\n",
    "print(tis)\n",
    "tis.set_origin((282.812, 128.037, 98.892))\n",
    "\n",
    "#tis.set_spacing(())\n",
    "\n",
    "ants.image_write(ref,\"./Synthetic_Data_November/Nifti_mod/Tissue_Blocks_Cells_Noise_0.nii\")\n",
    "print(tis)"
   ]
  },
  {
   "cell_type": "code",
   "execution_count": 15,
   "metadata": {},
   "outputs": [
    {
     "name": "stdout",
     "output_type": "stream",
     "text": [
      "ANTsImage (RAI)\n",
      "\t Pixel Type : float (float32)\n",
      "\t Components : 1\n",
      "\t Dimensions : (401, 66, 148)\n",
      "\t Spacing    : (1.0, 1.0, 1.0)\n",
      "\t Origin     : (0.0, 0.0, 0.0)\n",
      "\t Direction  : [1. 0. 0. 0. 1. 0. 0. 0. 1.]\n",
      "\n",
      "ANTsImage (RAI)\n",
      "\t Pixel Type : float (float32)\n",
      "\t Components : 1\n",
      "\t Dimensions : (401, 66, 148)\n",
      "\t Spacing    : (1.0, 1.0, 1.0)\n",
      "\t Origin     : (282.812, 128.037, 98.892)\n",
      "\t Direction  : [1. 0. 0. 0. 1. 0. 0. 0. 1.]\n",
      "\n"
     ]
    }
   ],
   "source": [
    "tis = ants.image_read(\"./Synthetic_Data_November/Nifti/Tissue_Blocks_Cells_Noise_1.nii\")\n",
    "#ants.plot(tis)\n",
    "print(tis)\n",
    "tis.set_origin((282.812, 128.037, 98.892))\n",
    "\n",
    "#tis.set_spacing(())\n",
    "\n",
    "ants.image_write(ref,\"./Synthetic_Data_November/Nifti_mod/Tissue_Blocks_Cells_Noise_1.nii\")\n",
    "print(tis)"
   ]
  },
  {
   "cell_type": "code",
   "execution_count": 16,
   "metadata": {},
   "outputs": [
    {
     "name": "stdout",
     "output_type": "stream",
     "text": [
      "ANTsImage (RAI)\n",
      "\t Pixel Type : float (float32)\n",
      "\t Components : 1\n",
      "\t Dimensions : (401, 67, 147)\n",
      "\t Spacing    : (1.0, 1.0, 1.0)\n",
      "\t Origin     : (0.0, 0.0, 0.0)\n",
      "\t Direction  : [1. 0. 0. 0. 1. 0. 0. 0. 1.]\n",
      "\n",
      "ANTsImage (RAI)\n",
      "\t Pixel Type : float (float32)\n",
      "\t Components : 1\n",
      "\t Dimensions : (401, 67, 147)\n",
      "\t Spacing    : (1.0, 1.0, 1.0)\n",
      "\t Origin     : (282.812, 128.037, 98.892)\n",
      "\t Direction  : [1. 0. 0. 0. 1. 0. 0. 0. 1.]\n",
      "\n"
     ]
    }
   ],
   "source": [
    "tis = ants.image_read(\"./Synthetic_Data_November/Nifti/Tissue_Blocks_Cells_Noise_2.nii\")\n",
    "#ants.plot(tis)\n",
    "print(tis)\n",
    "tis.set_origin((282.812, 128.037, 98.892))\n",
    "\n",
    "#tis.set_spacing(())\n",
    "\n",
    "ants.image_write(ref,\"./Synthetic_Data_November/Nifti_mod/Tissue_Blocks_Cells_Noise_2.nii\")\n",
    "print(tis)"
   ]
  },
  {
   "cell_type": "code",
   "execution_count": 17,
   "metadata": {},
   "outputs": [
    {
     "name": "stdout",
     "output_type": "stream",
     "text": [
      "ANTsImage (RAI)\n",
      "\t Pixel Type : float (float32)\n",
      "\t Components : 1\n",
      "\t Dimensions : (414, 85, 153)\n",
      "\t Spacing    : (1.0, 1.0, 1.0)\n",
      "\t Origin     : (0.0, 0.0, 0.0)\n",
      "\t Direction  : [1. 0. 0. 0. 1. 0. 0. 0. 1.]\n",
      "\n",
      "ANTsImage (RAI)\n",
      "\t Pixel Type : float (float32)\n",
      "\t Components : 1\n",
      "\t Dimensions : (414, 85, 153)\n",
      "\t Spacing    : (1.0, 1.0, 1.0)\n",
      "\t Origin     : (282.812, 128.037, 98.892)\n",
      "\t Direction  : [1. 0. 0. 0. 1. 0. 0. 0. 1.]\n",
      "\n"
     ]
    }
   ],
   "source": [
    "tis = ants.image_read(\"./Synthetic_Data_November/Nifti/Tissue_Blocks_Cells_Noise_10.nii\")\n",
    "#ants.plot(tis)\n",
    "print(tis)\n",
    "tis.set_origin((282.812, 128.037, 98.892))\n",
    "\n",
    "#tis.set_spacing(())\n",
    "\n",
    "ants.image_write(ref,\"./Synthetic_Data_November/Nifti_mod/Tissue_Blocks_Cells_Noise_10.nii\")\n",
    "print(tis)"
   ]
  },
  {
   "cell_type": "code",
   "execution_count": 18,
   "metadata": {},
   "outputs": [
    {
     "name": "stdout",
     "output_type": "stream",
     "text": [
      "ANTsImage (RAI)\n",
      "\t Pixel Type : float (float32)\n",
      "\t Components : 1\n",
      "\t Dimensions : (498, 180, 259)\n",
      "\t Spacing    : (1.0, 1.0, 1.0)\n",
      "\t Origin     : (0.0, 0.0, 0.0)\n",
      "\t Direction  : [1. 0. 0. 0. 1. 0. 0. 0. 1.]\n",
      "\n",
      "ANTsImage (RAI)\n",
      "\t Pixel Type : float (float32)\n",
      "\t Components : 1\n",
      "\t Dimensions : (498, 180, 259)\n",
      "\t Spacing    : (1.0, 1.0, 1.0)\n",
      "\t Origin     : (282.812, 128.037, 98.892)\n",
      "\t Direction  : [1. 0. 0. 0. 1. 0. 0. 0. 1.]\n",
      "\n"
     ]
    }
   ],
   "source": [
    "tis = ants.image_read(\"./Synthetic_Data_November/Nifti/Tissue_Blocks_Cells_Noise_50.nii\")\n",
    "#ants.plot(tis)\n",
    "print(tis)\n",
    "tis.set_origin((282.812, 128.037, 98.892))\n",
    "\n",
    "#tis.set_spacing(())\n",
    "\n",
    "ants.image_write(ref,\"./Synthetic_Data_November/Nifti_mod/Tissue_Blocks_Cells_Noise_50.nii\")\n",
    "print(tis)"
   ]
  }
 ],
 "metadata": {
  "kernelspec": {
   "display_name": "Python 3",
   "language": "python",
   "name": "python3"
  },
  "language_info": {
   "codemirror_mode": {
    "name": "ipython",
    "version": 3
   },
   "file_extension": ".py",
   "mimetype": "text/x-python",
   "name": "python",
   "nbconvert_exporter": "python",
   "pygments_lexer": "ipython3",
   "version": "3.7.6"
  }
 },
 "nbformat": 4,
 "nbformat_minor": 4
}
